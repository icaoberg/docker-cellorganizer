{
 "cells": [
  {
   "cell_type": "code",
   "execution_count": null,
   "metadata": {},
   "outputs": [],
   "source": [
    "from cellOrganizer import img2slml\n",
    "import glob\n",
    "import urllib.request\n",
    "import tarfile \n",
    "import os\n",
    "\n",
    "urllib.request.urlretrieve('http://www.cellorganizer.org/Downloads/v2.7/docker/v2.7.1/images/demo2D04.tgz', 'demo2D04.tgz')\n",
    "\n",
    "if not os.path.exists('../images/HeLa/2D/LAM/'):\n",
    "    os.makedirs('../images/HeLa/2D/LAM/')\n",
    "    \n",
    "tar = tarfile.open(name='demo2D04.tgz', mode=\"r:gz\")\n",
    "tar.extractall(path=\"../images/HeLa/2D/LAM/\", members=None, numeric_owner=False)\n",
    "\n",
    "input_files\n",
    "\n",
    "options = {}\n",
    "options['verbose'] = True\n",
    "options['debug'] = False\n",
    "options['display'] = False\n",
    "options['model.name'] = 'demo2D04'\n",
    "options['train.flag'] = 'framework'\n",
    "options['nucleus.class'] = 'framework'\n",
    "options['nucleus.type'] = 'diffeomorphic'\n",
    "options['cell.class '] = 'framework'\n",
    "options['cell.type'] = 'diffeomorphic'\n",
    "options['protein.class'] = 'vesicle'\n",
    "options['protein.tyte'] = 'gmm'\n",
    "options['model.diffeomorphic.distance_computing_method'] = 'faster'\n",
    "\n",
    "\n",
    "dimensionality = '2D'\n",
    "\n",
    "directory = '/home/murphylab/cellorganizer/images/HeLa/2D/LAM/'\n",
    "\n",
    "dnaImagesDirectoryPath = [directory + 'orgdna/cell' + str(i)+\".tif\" for i in range(1,10)]\n",
    "cellImagesDirectoryPath = [directory + 'orgcell/cell' + str(i)+\".tif\" for i in range(1,10)]\n",
    "proteinImagesDirectoryPath = [directory + 'orgprot/cell' + str(i)+\".tif\" for i in range(1,10)]\n",
    "options['masks'] = [directory + 'crop/cell' + str(i)+\".tif\" for i in range(1,10)]\n",
    "options['model.resolution'] = [ 0.49, 0.49 ]\n",
    "options['model.filename'] = 'lamp2.xml'\n",
    "options['model.id'] = 'lamp2'\n",
    "options['model.name'] = 'lamp2'\n",
    "options['nucleus.name'] = 'LAMP2'\n",
    "options['cell.model'] = 'LAMP2'\n",
    "options['documentation.description'] = 'This model has been trained using demo2D01 from CellOrganizer'\n",
    "options['downsampling'] = [5,5]\n",
    "options['model.diffeomorphic.com_align']= 'nuc'\n",
    "\n",
    "\n",
    "answer = img2slml(dim, dna, cell, protein, options)\n",
    "\n",
    "\n",
    "if answer:\n",
    "    print(\"Success!\")"
   ]
  }
 ],
 "metadata": {
  "kernelspec": {
   "display_name": "Python 3",
   "language": "python",
   "name": "python3"
  },
  "language_info": {
   "codemirror_mode": {
    "name": "ipython",
    "version": 3
   },
   "file_extension": ".py",
   "mimetype": "text/x-python",
   "name": "python",
   "nbconvert_exporter": "python",
   "pygments_lexer": "ipython3",
   "version": "3.6.4"
  }
 },
 "nbformat": 4,
 "nbformat_minor": 2
}
