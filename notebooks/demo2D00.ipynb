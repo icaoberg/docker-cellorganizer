{
 "cells": [
  {
   "cell_type": "code",
   "execution_count": null,
   "metadata": {},
   "outputs": [],
   "source": [
    "from cellorganizer import slml2img\n",
    "\n",
    "filenames = [ 'model1.mat', 'model2.mat' ]\n",
    "options = {}\n",
    "options['numberOfSynthesizedImages'] = 1;\n",
    "options['prefix'] = 'img'\n",
    "options['debug'] = false\n",
    "\n",
    "answer = slml2img( filenames, options )\n",
    "\n",
    "if answer:\n",
    "    print(\"Success!\")\n",
    "    "
   ]
  }
 ],
 "metadata": {
  "kernelspec": {
   "display_name": "Python 3",
   "language": "python",
   "name": "python3"
  },
  "language_info": {
   "codemirror_mode": {
    "name": "ipython",
    "version": 3
   },
   "file_extension": ".py",
   "mimetype": "text/x-python",
   "name": "python",
   "nbconvert_exporter": "python",
   "pygments_lexer": "ipython3",
   "version": "3.6.5"
  }
 },
 "nbformat": 4,
 "nbformat_minor": 2
}
