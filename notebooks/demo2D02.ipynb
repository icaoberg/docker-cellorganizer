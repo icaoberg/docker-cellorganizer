{
 "cells": [
  {
   "cell_type": "code",
   "execution_count": null,
   "metadata": {},
   "outputs": [],
   "source": [
    "from cellOrganizer import img2slml\n",
    "\n",
    "options = {}\n",
    "\n",
    "options['numberOfSynthesizedImages'] = 1\n",
    "options['targetDirectory'] = 'pwd'\n",
    "options['compression '] = 'lzw'\n",
    "options['prefix'] = 'img';\n",
    "options['debug'] = False\n",
    "options['verbose'] = True\n",
    "options['display'] = False\n",
    "options['model.name'] = 'demo2D01'\n",
    "\n",
    "\n",
    "filenames = {'/home/murphylab/cellorganizer/demos/2D/demo2D01/lamp2.mat'}\n",
    "\n",
    "answer = img2slml(filenames, options)\n",
    "if answer:\n",
    "    print(\"Success!\")"
   ]
  }
 ],
 "metadata": {
  "kernelspec": {
   "display_name": "Python 3",
   "language": "python",
   "name": "python3"
  },
  "language_info": {
   "codemirror_mode": {
    "name": "ipython",
    "version": 3
   },
   "file_extension": ".py",
   "mimetype": "text/x-python",
   "name": "python",
   "nbconvert_exporter": "python",
   "pygments_lexer": "ipython3",
   "version": "3.6.4"
  }
 },
 "nbformat": 4,
 "nbformat_minor": 2
}
